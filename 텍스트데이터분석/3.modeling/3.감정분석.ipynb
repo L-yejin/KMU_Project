{
 "cells": [
  {
   "cell_type": "code",
   "execution_count": 1,
   "id": "989d9ba9",
   "metadata": {},
   "outputs": [],
   "source": [
    "import pandas as pd\n",
    "import numpy as np\n",
    "\n",
    "import statistics\n",
    "\n",
    "import re\n",
    "\n",
    "import nltk\n",
    "\n",
    "import kiwipiepy\n",
    "from kiwipiepy import Kiwi # 형태소 분석\n",
    "from kiwipiepy.utils import Stopwords # kiwi 불용어\n",
    "\n",
    "from sklearn.feature_extraction.text import TfidfVectorizer\n",
    "\n",
    "from sklearn.model_selection import train_test_split\n",
    "from sklearn.linear_model import LogisticRegression\n",
    "\n",
    "from tqdm import tqdm\n",
    "import time"
   ]
  },
  {
   "cell_type": "code",
   "execution_count": 2,
   "id": "7005beec",
   "metadata": {},
   "outputs": [],
   "source": [
    "def Rep_text(text): # 단어 통일 시키기\n",
    "    text = str(text)\n",
    "    pattern = '(\\n){1,}' \n",
    "    text = re.sub(pattern=pattern, repl='\\n', string=text) # \\n가 1번이상 사용된 경우 \\n로 바꾸기\n",
    "    return text"
   ]
  },
  {
   "cell_type": "markdown",
   "id": "4f49f66a",
   "metadata": {},
   "source": [
    "# data load"
   ]
  },
  {
   "cell_type": "code",
   "execution_count": 3,
   "id": "432a9ad6",
   "metadata": {},
   "outputs": [],
   "source": [
    "# 파일 열기\n",
    "df = pd.read_csv('../data/pre_data.csv')\n",
    "\n",
    "df['preprocessed_best_comment'] = df['preprocessed_best_comment'].apply(lambda x: Rep_text(x)) # \\n 반복되는 것 제거\n",
    "df['preprocessed_comment'] = df['preprocessed_comment'].apply(lambda x: Rep_text(x)) # \\n 반복되는 것 제거"
   ]
  },
  {
   "cell_type": "markdown",
   "id": "2fd869f1",
   "metadata": {},
   "source": [
    "# dataset 정의\n",
    "- 각 댓글별로 row로 만들기\n",
    "- 1.5일 소요  \n",
    "- 각 웹툰의 에피소드의 댓글을 분리할 때, 해당 에피소드의 sentiment 부여\n",
    "- 3296688개의 row여서 랜덤 샘플하여 데이터 줄이기"
   ]
  },
  {
   "cell_type": "code",
   "execution_count": 6,
   "id": "36a2eab0",
   "metadata": {},
   "outputs": [],
   "source": [
    "def Commend(best,com):\n",
    "    return df[best]+'\\n'+df[com] # best와 일반 댓글 합치기\n",
    "\n",
    "df['total_comment'] = Commend('preprocessed_best_comment','preprocessed_comment')"
   ]
  },
  {
   "cell_type": "code",
   "execution_count": 16,
   "id": "f337590f",
   "metadata": {
    "scrolled": true
   },
   "outputs": [
    {
     "name": "stderr",
     "output_type": "stream",
     "text": [
      "100%|████████████████████████████████████████████████████████████████████████████| 4949/4949 [6:10:15<00:00,  4.49s/it]\n"
     ]
    }
   ],
   "source": [
    "df_set = pd.DataFrame(columns=['comment','sentiment'])\n",
    "\n",
    "for i in tqdm(range(len(df))):\n",
    "    sentiment = df['sentiment'][i]\n",
    "    for sen in df['total_comment'][i].split('\\n'): # 한 user의 댓글로 나눠서 별도의 row로 저장\n",
    "        df_set.loc[len(df_set)] = [sen,sentiment]"
   ]
  },
  {
   "cell_type": "code",
   "execution_count": null,
   "id": "bcba667a",
   "metadata": {},
   "outputs": [],
   "source": [
    "df_set = df_set.dropna(how = 'any') # Null 값이 존재하는 행 제거\n",
    "df_set['comment'] = df_set['comment'].str.replace(\"[^ㄱ-ㅎㅏ-ㅣ가-힣 ]\",\"\") # 한글만 남기기\n",
    "\n",
    "# df_set.to_csv('../data/comment_data.csv', index=False)"
   ]
  },
  {
   "cell_type": "code",
   "execution_count": 28,
   "id": "e7c1aa17",
   "metadata": {},
   "outputs": [],
   "source": [
    "# 기존 데이터 3296688 rows×2 columns\n",
    "# df = pd.read_csv('../data/comment_data.csv')\n",
    "\n",
    "# 데이터 양 줄이기. 긍정:부정=1:5 비율\n",
    "df_po = df.query('sentiment == 1').sample(n=5000, random_state=1) # 2606508->5000\n",
    "df_ne = df.query('sentiment == 0').sample(n=25000, random_state=1) # 676330->25000\n",
    "df_total = pd.concat([df_po,df_ne])\n",
    "\n",
    "df_total = df_total.dropna(how = 'any') # Null 값이 존재하는 행 제거"
   ]
  },
  {
   "cell_type": "code",
   "execution_count": 29,
   "id": "03c947ea",
   "metadata": {},
   "outputs": [],
   "source": [
    "# kiwi활용 토큰화\n",
    "kiwi_stop = Stopwords() # kiwi의 불용어로만 처리\n",
    "kiwi = kiwipiepy.Kiwi()\n",
    "\n",
    "def extract_nouns(text): # kiwi사용하여 토큰화\n",
    "    tt = \"\"\n",
    "    for token in kiwi.tokenize(text, normalize_coda=True, stopwords=kiwi_stop):\n",
    "        if (token.tag in {'NNG', 'NNP'}) & (len(token.form)>1): # kiwi 명사 추출.\n",
    "            tt+=f'{token.form} ' # 하나로 합치기\n",
    "    return tt\n",
    "\n",
    "df_total['pre_comment'] = df_total['comment'].apply(lambda x: extract_nouns(x))\n",
    "# df_total.to_csv('../data/senti_data.csv',index=False)"
   ]
  },
  {
   "cell_type": "markdown",
   "id": "fdf5ec45",
   "metadata": {},
   "source": [
    "# TF-IDF 만들기"
   ]
  },
  {
   "cell_type": "code",
   "execution_count": 19,
   "id": "d0364dc4",
   "metadata": {
    "scrolled": true
   },
   "outputs": [
    {
     "data": {
      "text/html": [
       "<div>\n",
       "<style scoped>\n",
       "    .dataframe tbody tr th:only-of-type {\n",
       "        vertical-align: middle;\n",
       "    }\n",
       "\n",
       "    .dataframe tbody tr th {\n",
       "        vertical-align: top;\n",
       "    }\n",
       "\n",
       "    .dataframe thead th {\n",
       "        text-align: right;\n",
       "    }\n",
       "</style>\n",
       "<table border=\"1\" class=\"dataframe\">\n",
       "  <thead>\n",
       "    <tr style=\"text-align: right;\">\n",
       "      <th></th>\n",
       "      <th>comment</th>\n",
       "      <th>sentiment</th>\n",
       "      <th>pre_comment</th>\n",
       "    </tr>\n",
       "  </thead>\n",
       "  <tbody>\n",
       "    <tr>\n",
       "      <th>0</th>\n",
       "      <td>근데 란 기술 쓰는 거 보면 죄다 스페인어 이름들이고 딸 아들들도 하나같이 다 서양...</td>\n",
       "      <td>1</td>\n",
       "      <td>기술 스페인어 이름 아들 서양 주인 에드 동양식 복장</td>\n",
       "    </tr>\n",
       "    <tr>\n",
       "      <th>1</th>\n",
       "      <td>이랬던 자림이가 어쩌다가</td>\n",
       "      <td>1</td>\n",
       "      <td>자림이</td>\n",
       "    </tr>\n",
       "    <tr>\n",
       "      <th>2</th>\n",
       "      <td>소연이 로우킥이 원주민 공포 만화 얄라 뽕 따지 급인데</td>\n",
       "      <td>1</td>\n",
       "      <td>소연 로우 원주민 공포 만화 얄라</td>\n",
       "    </tr>\n",
       "    <tr>\n",
       "      <th>3</th>\n",
       "      <td>강효문이 솔까 한 유현 보다 더 잘생겼는데</td>\n",
       "      <td>1</td>\n",
       "      <td>강효 유현</td>\n",
       "    </tr>\n",
       "    <tr>\n",
       "      <th>4</th>\n",
       "      <td>와느무잼따</td>\n",
       "      <td>1</td>\n",
       "      <td>와느무잼따</td>\n",
       "    </tr>\n",
       "    <tr>\n",
       "      <th>...</th>\n",
       "      <td>...</td>\n",
       "      <td>...</td>\n",
       "      <td>...</td>\n",
       "    </tr>\n",
       "    <tr>\n",
       "      <th>25811</th>\n",
       "      <td>작가님 진짜 제발 부탁인데요 김신 씨 죽이지 말아 주세요 우리 애 너무 불쌍하잖아요...</td>\n",
       "      <td>0</td>\n",
       "      <td>작가 부탁 김신 아버지 태양</td>\n",
       "    </tr>\n",
       "    <tr>\n",
       "      <th>25812</th>\n",
       "      <td>웃긴 건 저기보다 남쪽인 남만 애들 사는 땅은 고산지대라고 사계절 봄 날씨임</td>\n",
       "      <td>0</td>\n",
       "      <td>남쪽 남만 고산 지대 사계절 날씨</td>\n",
       "    </tr>\n",
       "    <tr>\n",
       "      <th>25813</th>\n",
       "      <td>그냥 급도 벌레 취급이네 밸붕</td>\n",
       "      <td>0</td>\n",
       "      <td>벌레 취급</td>\n",
       "    </tr>\n",
       "    <tr>\n",
       "      <th>25814</th>\n",
       "      <td>갑자기 얼굴을 저렇게 들 이 미시 면 감사합니다</td>\n",
       "      <td>0</td>\n",
       "      <td>얼굴 감사</td>\n",
       "    </tr>\n",
       "    <tr>\n",
       "      <th>25815</th>\n",
       "      <td>이거 처음 보는데 어서 오세요 호에 보고 와서 그런지 거부감은 전혀 안 드는데</td>\n",
       "      <td>0</td>\n",
       "      <td>처음 거부감</td>\n",
       "    </tr>\n",
       "  </tbody>\n",
       "</table>\n",
       "<p>25816 rows × 3 columns</p>\n",
       "</div>"
      ],
      "text/plain": [
       "                                                 comment  sentiment  \\\n",
       "0      근데 란 기술 쓰는 거 보면 죄다 스페인어 이름들이고 딸 아들들도 하나같이 다 서양...          1   \n",
       "1                                          이랬던 자림이가 어쩌다가          1   \n",
       "2                         소연이 로우킥이 원주민 공포 만화 얄라 뽕 따지 급인데          1   \n",
       "3                                강효문이 솔까 한 유현 보다 더 잘생겼는데          1   \n",
       "4                                                  와느무잼따          1   \n",
       "...                                                  ...        ...   \n",
       "25811  작가님 진짜 제발 부탁인데요 김신 씨 죽이지 말아 주세요 우리 애 너무 불쌍하잖아요...          0   \n",
       "25812         웃긴 건 저기보다 남쪽인 남만 애들 사는 땅은 고산지대라고 사계절 봄 날씨임          0   \n",
       "25813                                   그냥 급도 벌레 취급이네 밸붕          0   \n",
       "25814                         갑자기 얼굴을 저렇게 들 이 미시 면 감사합니다          0   \n",
       "25815        이거 처음 보는데 어서 오세요 호에 보고 와서 그런지 거부감은 전혀 안 드는데          0   \n",
       "\n",
       "                          pre_comment  \n",
       "0      기술 스페인어 이름 아들 서양 주인 에드 동양식 복장   \n",
       "1                                자림이   \n",
       "2                 소연 로우 원주민 공포 만화 얄라   \n",
       "3                              강효 유현   \n",
       "4                              와느무잼따   \n",
       "...                               ...  \n",
       "25811                작가 부탁 김신 아버지 태양   \n",
       "25812             남쪽 남만 고산 지대 사계절 날씨   \n",
       "25813                          벌레 취급   \n",
       "25814                          얼굴 감사   \n",
       "25815                         처음 거부감   \n",
       "\n",
       "[25816 rows x 3 columns]"
      ]
     },
     "execution_count": 19,
     "metadata": {},
     "output_type": "execute_result"
    }
   ],
   "source": [
    "df_total = pd.read_csv('../data/senti_data.csv')"
   ]
  },
  {
   "cell_type": "code",
   "execution_count": 20,
   "id": "8b6b3d0e",
   "metadata": {},
   "outputs": [
    {
     "data": {
      "text/plain": [
       "<25816x16500 sparse matrix of type '<class 'numpy.float64'>'\n",
       "\twith 89182 stored elements in Compressed Sparse Row format>"
      ]
     },
     "execution_count": 20,
     "metadata": {},
     "output_type": "execute_result"
    }
   ],
   "source": [
    "df_total = df_total.dropna(how = 'any') # Null 값이 존재하는 행 제거\n",
    "\n",
    "tfidf = TfidfVectorizer() #TF-IDF 만들기\n",
    "tfidf_mat = tfidf.fit_transform(df_total['pre_comment']) # 설명부분\n",
    "tfidf_mat # 25816개의 댓글, 각 댓글은 16500개의 유니크한 단어"
   ]
  },
  {
   "cell_type": "code",
   "execution_count": 5,
   "id": "3fce9763",
   "metadata": {},
   "outputs": [],
   "source": [
    "# 형태 변환하기\n",
    "x = tfidf_mat.toarray()\n",
    "y = df_total.sentiment.to_numpy()"
   ]
  },
  {
   "cell_type": "code",
   "execution_count": 6,
   "id": "0ac7ba73",
   "metadata": {},
   "outputs": [],
   "source": [
    "# 데이터 분할\n",
    "x_train, x_test, y_train, y_test = train_test_split(x, y, test_size=0.3, stratify=y, random_state=1)"
   ]
  },
  {
   "cell_type": "markdown",
   "id": "8b0a6f18",
   "metadata": {},
   "source": [
    "# 감정분석\n",
    "- keras 사용"
   ]
  },
  {
   "cell_type": "code",
   "execution_count": null,
   "id": "2b09f793",
   "metadata": {},
   "outputs": [],
   "source": [
    "# !pip install -q tensorflow"
   ]
  },
  {
   "cell_type": "code",
   "execution_count": 8,
   "id": "6b9d1543",
   "metadata": {},
   "outputs": [],
   "source": [
    "import tensorflow as tf\n",
    "\n",
    "# 모델 구성\n",
    "model = tf.keras.models.Sequential()\n",
    "model.add(tf.keras.layers.Dense(1, activation='sigmoid')) # layer 1층만 사용\n",
    "\n",
    "model.compile(optimizer='adam', loss='binary_crossentropy', metrics=['accuracy'])"
   ]
  },
  {
   "cell_type": "code",
   "execution_count": 10,
   "id": "f77f92b7",
   "metadata": {
    "scrolled": true
   },
   "outputs": [
    {
     "name": "stdout",
     "output_type": "stream",
     "text": [
      "Epoch 1/20\n",
      "565/565 [==============================] - 2s 2ms/step - loss: 0.6041 - accuracy: 0.8283\n",
      "Epoch 2/20\n",
      "565/565 [==============================] - 1s 2ms/step - loss: 0.4984 - accuracy: 0.8334: 0s - loss: 0.5056 \n",
      "Epoch 3/20\n",
      "565/565 [==============================] - 1s 2ms/step - loss: 0.4562 - accuracy: 0.8334\n",
      "Epoch 4/20\n",
      "565/565 [==============================] - 1s 2ms/step - loss: 0.4387 - accuracy: 0.8334\n",
      "Epoch 5/20\n",
      "565/565 [==============================] - 1s 2ms/step - loss: 0.4300 - accuracy: 0.8334\n",
      "Epoch 6/20\n",
      "565/565 [==============================] - 1s 2ms/step - loss: 0.4242 - accuracy: 0.8334\n",
      "Epoch 7/20\n",
      "565/565 [==============================] - 1s 2ms/step - loss: 0.4191 - accuracy: 0.8334\n",
      "Epoch 8/20\n",
      "565/565 [==============================] - 1s 2ms/step - loss: 0.4140 - accuracy: 0.8334\n",
      "Epoch 9/20\n",
      "565/565 [==============================] - 1s 2ms/step - loss: 0.4092 - accuracy: 0.8334\n",
      "Epoch 10/20\n",
      "565/565 [==============================] - 1s 2ms/step - loss: 0.4044 - accuracy: 0.8334\n",
      "Epoch 11/20\n",
      "565/565 [==============================] - 1s 2ms/step - loss: 0.3997 - accuracy: 0.8334\n",
      "Epoch 12/20\n",
      "565/565 [==============================] - 1s 2ms/step - loss: 0.3951 - accuracy: 0.8334\n",
      "Epoch 13/20\n",
      "565/565 [==============================] - 1s 2ms/step - loss: 0.3907 - accuracy: 0.8334\n",
      "Epoch 14/20\n",
      "565/565 [==============================] - 1s 2ms/step - loss: 0.3864 - accuracy: 0.8334\n",
      "Epoch 15/20\n",
      "565/565 [==============================] - 1s 2ms/step - loss: 0.3822 - accuracy: 0.8334\n",
      "Epoch 16/20\n",
      "565/565 [==============================] - 1s 2ms/step - loss: 0.3781 - accuracy: 0.8334\n",
      "Epoch 17/20\n",
      "565/565 [==============================] - 1s 2ms/step - loss: 0.3742 - accuracy: 0.8334\n",
      "Epoch 18/20\n",
      "565/565 [==============================] - 1s 2ms/step - loss: 0.3704 - accuracy: 0.8334\n",
      "Epoch 19/20\n",
      "565/565 [==============================] - 1s 2ms/step - loss: 0.3666 - accuracy: 0.8335\n",
      "Epoch 20/20\n",
      "565/565 [==============================] - 1s 2ms/step - loss: 0.3630 - accuracy: 0.8335\n"
     ]
    },
    {
     "data": {
      "text/plain": [
       "<keras.callbacks.History at 0x1b7cf2f0820>"
      ]
     },
     "execution_count": 10,
     "metadata": {},
     "output_type": "execute_result"
    }
   ],
   "source": [
    "model.fit(x_train, y_train, epochs=20) # 모델 학습"
   ]
  },
  {
   "cell_type": "code",
   "execution_count": 12,
   "id": "ebbb8608",
   "metadata": {},
   "outputs": [
    {
     "name": "stdout",
     "output_type": "stream",
     "text": [
      "INFO:tensorflow:Assets written to: comments_sem.krs\\assets\n"
     ]
    }
   ],
   "source": [
    "# 모델 저장\n",
    "# model.save('comments_sem.krs')"
   ]
  },
  {
   "cell_type": "code",
   "execution_count": 9,
   "id": "cf2338b8",
   "metadata": {},
   "outputs": [],
   "source": [
    "model = tf.keras.models.load_model('comments_sem.krs') # 저장했던 모델 불러오기"
   ]
  },
  {
   "cell_type": "code",
   "execution_count": 10,
   "id": "1140aa67",
   "metadata": {},
   "outputs": [
    {
     "name": "stdout",
     "output_type": "stream",
     "text": [
      "243/243 [==============================] - 1s 2ms/step - loss: 0.4395 - accuracy: 0.8333\n"
     ]
    },
    {
     "data": {
      "text/plain": [
       "[0.43948912620544434, 0.8333117961883545]"
      ]
     },
     "execution_count": 10,
     "metadata": {},
     "output_type": "execute_result"
    }
   ],
   "source": [
    "model.evaluate(x_test, y_test) # 모델 평가"
   ]
  },
  {
   "cell_type": "code",
   "execution_count": 11,
   "id": "4aaec9eb",
   "metadata": {},
   "outputs": [],
   "source": [
    "w, b = model.weights # 가중치 출력하기"
   ]
  },
  {
   "cell_type": "code",
   "execution_count": 15,
   "id": "cbbdf34c",
   "metadata": {},
   "outputs": [],
   "source": [
    "word_sent = pd.DataFrame({'토큰': tfidf.get_feature_names_out(), '가중치': w.numpy().flat}) # 토큰과 가중치를 데이터프레임으로 변환"
   ]
  },
  {
   "cell_type": "code",
   "execution_count": 16,
   "id": "b2c4f5d8",
   "metadata": {},
   "outputs": [
    {
     "data": {
      "text/html": [
       "<div>\n",
       "<style scoped>\n",
       "    .dataframe tbody tr th:only-of-type {\n",
       "        vertical-align: middle;\n",
       "    }\n",
       "\n",
       "    .dataframe tbody tr th {\n",
       "        vertical-align: top;\n",
       "    }\n",
       "\n",
       "    .dataframe thead th {\n",
       "        text-align: right;\n",
       "    }\n",
       "</style>\n",
       "<table border=\"1\" class=\"dataframe\">\n",
       "  <thead>\n",
       "    <tr style=\"text-align: right;\">\n",
       "      <th></th>\n",
       "      <th>토큰</th>\n",
       "      <th>가중치</th>\n",
       "    </tr>\n",
       "  </thead>\n",
       "  <tbody>\n",
       "    <tr>\n",
       "      <th>12101</th>\n",
       "      <td>제갈량</td>\n",
       "      <td>-2.709445</td>\n",
       "    </tr>\n",
       "    <tr>\n",
       "      <th>12009</th>\n",
       "      <td>정사</td>\n",
       "      <td>-2.313717</td>\n",
       "    </tr>\n",
       "    <tr>\n",
       "      <th>12300</th>\n",
       "      <td>조조</td>\n",
       "      <td>-2.242916</td>\n",
       "    </tr>\n",
       "    <tr>\n",
       "      <th>1179</th>\n",
       "      <td>관우</td>\n",
       "      <td>-2.140237</td>\n",
       "    </tr>\n",
       "    <tr>\n",
       "      <th>14467</th>\n",
       "      <td>테러</td>\n",
       "      <td>-1.968266</td>\n",
       "    </tr>\n",
       "    <tr>\n",
       "      <th>7425</th>\n",
       "      <td>손권</td>\n",
       "      <td>-1.908531</td>\n",
       "    </tr>\n",
       "    <tr>\n",
       "      <th>5873</th>\n",
       "      <td>본인</td>\n",
       "      <td>-1.814535</td>\n",
       "    </tr>\n",
       "    <tr>\n",
       "      <th>7681</th>\n",
       "      <td>순욱</td>\n",
       "      <td>-1.694482</td>\n",
       "    </tr>\n",
       "    <tr>\n",
       "      <th>11515</th>\n",
       "      <td>장료</td>\n",
       "      <td>-1.625467</td>\n",
       "    </tr>\n",
       "    <tr>\n",
       "      <th>9078</th>\n",
       "      <td>억지</td>\n",
       "      <td>-1.620497</td>\n",
       "    </tr>\n",
       "    <tr>\n",
       "      <th>5357</th>\n",
       "      <td>방통</td>\n",
       "      <td>-1.586457</td>\n",
       "    </tr>\n",
       "    <tr>\n",
       "      <th>6732</th>\n",
       "      <td>상관</td>\n",
       "      <td>-1.574132</td>\n",
       "    </tr>\n",
       "    <tr>\n",
       "      <th>4691</th>\n",
       "      <td>무료</td>\n",
       "      <td>-1.569835</td>\n",
       "    </tr>\n",
       "    <tr>\n",
       "      <th>12485</th>\n",
       "      <td>주군</td>\n",
       "      <td>-1.527944</td>\n",
       "    </tr>\n",
       "    <tr>\n",
       "      <th>10398</th>\n",
       "      <td>유림</td>\n",
       "      <td>-1.517856</td>\n",
       "    </tr>\n",
       "    <tr>\n",
       "      <th>6034</th>\n",
       "      <td>분노</td>\n",
       "      <td>-1.507545</td>\n",
       "    </tr>\n",
       "    <tr>\n",
       "      <th>9171</th>\n",
       "      <td>에이</td>\n",
       "      <td>-1.490831</td>\n",
       "    </tr>\n",
       "    <tr>\n",
       "      <th>9988</th>\n",
       "      <td>요약</td>\n",
       "      <td>-1.490752</td>\n",
       "    </tr>\n",
       "    <tr>\n",
       "      <th>4549</th>\n",
       "      <td>모양</td>\n",
       "      <td>-1.490335</td>\n",
       "    </tr>\n",
       "    <tr>\n",
       "      <th>1914</th>\n",
       "      <td>김신</td>\n",
       "      <td>-1.488175</td>\n",
       "    </tr>\n",
       "  </tbody>\n",
       "</table>\n",
       "</div>"
      ],
      "text/plain": [
       "        토큰       가중치\n",
       "12101  제갈량 -2.709445\n",
       "12009   정사 -2.313717\n",
       "12300   조조 -2.242916\n",
       "1179    관우 -2.140237\n",
       "14467   테러 -1.968266\n",
       "7425    손권 -1.908531\n",
       "5873    본인 -1.814535\n",
       "7681    순욱 -1.694482\n",
       "11515   장료 -1.625467\n",
       "9078    억지 -1.620497\n",
       "5357    방통 -1.586457\n",
       "6732    상관 -1.574132\n",
       "4691    무료 -1.569835\n",
       "12485   주군 -1.527944\n",
       "10398   유림 -1.517856\n",
       "6034    분노 -1.507545\n",
       "9171    에이 -1.490831\n",
       "9988    요약 -1.490752\n",
       "4549    모양 -1.490335\n",
       "1914    김신 -1.488175"
      ]
     },
     "execution_count": 16,
     "metadata": {},
     "output_type": "execute_result"
    }
   ],
   "source": [
    "# 상대적으로 부정 문장에서 많이 나오는 단어\n",
    "word_sent.sort_values('가중치').head(20)"
   ]
  },
  {
   "cell_type": "code",
   "execution_count": 17,
   "id": "24923f4a",
   "metadata": {},
   "outputs": [
    {
     "data": {
      "text/html": [
       "<div>\n",
       "<style scoped>\n",
       "    .dataframe tbody tr th:only-of-type {\n",
       "        vertical-align: middle;\n",
       "    }\n",
       "\n",
       "    .dataframe tbody tr th {\n",
       "        vertical-align: top;\n",
       "    }\n",
       "\n",
       "    .dataframe thead th {\n",
       "        text-align: right;\n",
       "    }\n",
       "</style>\n",
       "<table border=\"1\" class=\"dataframe\">\n",
       "  <thead>\n",
       "    <tr style=\"text-align: right;\">\n",
       "      <th></th>\n",
       "      <th>토큰</th>\n",
       "      <th>가중치</th>\n",
       "    </tr>\n",
       "  </thead>\n",
       "  <tbody>\n",
       "    <tr>\n",
       "      <th>2781</th>\n",
       "      <td>단어</td>\n",
       "      <td>0.749894</td>\n",
       "    </tr>\n",
       "    <tr>\n",
       "      <th>5380</th>\n",
       "      <td>배대</td>\n",
       "      <td>0.752828</td>\n",
       "    </tr>\n",
       "    <tr>\n",
       "      <th>2923</th>\n",
       "      <td>대방</td>\n",
       "      <td>0.752890</td>\n",
       "    </tr>\n",
       "    <tr>\n",
       "      <th>4940</th>\n",
       "      <td>미영</td>\n",
       "      <td>0.757898</td>\n",
       "    </tr>\n",
       "    <tr>\n",
       "      <th>5153</th>\n",
       "      <td>박윤수</td>\n",
       "      <td>0.762431</td>\n",
       "    </tr>\n",
       "    <tr>\n",
       "      <th>8096</th>\n",
       "      <td>시현</td>\n",
       "      <td>0.765349</td>\n",
       "    </tr>\n",
       "    <tr>\n",
       "      <th>11549</th>\n",
       "      <td>장애인</td>\n",
       "      <td>0.777504</td>\n",
       "    </tr>\n",
       "    <tr>\n",
       "      <th>4000</th>\n",
       "      <td>리퍼</td>\n",
       "      <td>0.780392</td>\n",
       "    </tr>\n",
       "    <tr>\n",
       "      <th>6433</th>\n",
       "      <td>사기</td>\n",
       "      <td>0.791212</td>\n",
       "    </tr>\n",
       "    <tr>\n",
       "      <th>9525</th>\n",
       "      <td>영준이</td>\n",
       "      <td>0.792739</td>\n",
       "    </tr>\n",
       "    <tr>\n",
       "      <th>16132</th>\n",
       "      <td>화주</td>\n",
       "      <td>0.809523</td>\n",
       "    </tr>\n",
       "    <tr>\n",
       "      <th>10353</th>\n",
       "      <td>유나</td>\n",
       "      <td>0.837464</td>\n",
       "    </tr>\n",
       "    <tr>\n",
       "      <th>7556</th>\n",
       "      <td>수빈</td>\n",
       "      <td>0.840459</td>\n",
       "    </tr>\n",
       "    <tr>\n",
       "      <th>7655</th>\n",
       "      <td>숙적</td>\n",
       "      <td>0.870012</td>\n",
       "    </tr>\n",
       "    <tr>\n",
       "      <th>6252</th>\n",
       "      <td>비올레</td>\n",
       "      <td>0.871838</td>\n",
       "    </tr>\n",
       "    <tr>\n",
       "      <th>4047</th>\n",
       "      <td>마루</td>\n",
       "      <td>0.895307</td>\n",
       "    </tr>\n",
       "    <tr>\n",
       "      <th>2540</th>\n",
       "      <td>녹치</td>\n",
       "      <td>0.899717</td>\n",
       "    </tr>\n",
       "    <tr>\n",
       "      <th>15617</th>\n",
       "      <td>합격</td>\n",
       "      <td>0.954477</td>\n",
       "    </tr>\n",
       "    <tr>\n",
       "      <th>4770</th>\n",
       "      <td>묵객</td>\n",
       "      <td>1.005821</td>\n",
       "    </tr>\n",
       "    <tr>\n",
       "      <th>7054</th>\n",
       "      <td>선지</td>\n",
       "      <td>1.101515</td>\n",
       "    </tr>\n",
       "  </tbody>\n",
       "</table>\n",
       "</div>"
      ],
      "text/plain": [
       "        토큰       가중치\n",
       "2781    단어  0.749894\n",
       "5380    배대  0.752828\n",
       "2923    대방  0.752890\n",
       "4940    미영  0.757898\n",
       "5153   박윤수  0.762431\n",
       "8096    시현  0.765349\n",
       "11549  장애인  0.777504\n",
       "4000    리퍼  0.780392\n",
       "6433    사기  0.791212\n",
       "9525   영준이  0.792739\n",
       "16132   화주  0.809523\n",
       "10353   유나  0.837464\n",
       "7556    수빈  0.840459\n",
       "7655    숙적  0.870012\n",
       "6252   비올레  0.871838\n",
       "4047    마루  0.895307\n",
       "2540    녹치  0.899717\n",
       "15617   합격  0.954477\n",
       "4770    묵객  1.005821\n",
       "7054    선지  1.101515"
      ]
     },
     "execution_count": 17,
     "metadata": {},
     "output_type": "execute_result"
    }
   ],
   "source": [
    "# 상대적으로 긍정 문장에서 많이 나오는 단어\n",
    "word_sent.sort_values('가중치').tail(20)"
   ]
  },
  {
   "cell_type": "code",
   "execution_count": null,
   "id": "7606d820",
   "metadata": {},
   "outputs": [],
   "source": []
  }
 ],
 "metadata": {
  "kernelspec": {
   "display_name": "Python 3 (ipykernel)",
   "language": "python",
   "name": "python3"
  },
  "language_info": {
   "codemirror_mode": {
    "name": "ipython",
    "version": 3
   },
   "file_extension": ".py",
   "mimetype": "text/x-python",
   "name": "python",
   "nbconvert_exporter": "python",
   "pygments_lexer": "ipython3",
   "version": "3.9.12"
  }
 },
 "nbformat": 4,
 "nbformat_minor": 5
}
