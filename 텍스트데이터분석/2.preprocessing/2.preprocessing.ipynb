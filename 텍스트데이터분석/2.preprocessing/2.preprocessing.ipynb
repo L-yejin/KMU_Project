{
 "cells": [
  {
   "cell_type": "code",
   "execution_count": null,
   "id": "3b612df6",
   "metadata": {},
   "outputs": [],
   "source": [
    "# !pip install soynlp\n",
    "# !pip install py-hanspell"
   ]
  },
  {
   "cell_type": "code",
   "execution_count": 1,
   "id": "6d6ebb21",
   "metadata": {},
   "outputs": [],
   "source": [
    "import pandas as pd\n",
    "\n",
    "import re\n",
    "\n",
    "from soynlp.normalizer import * # 정규화\n",
    "from hanspell import spell_checker # 네이버 맞춤법 검사기를 이용한 파이썬용 한글 맞춤법 검사 라이브러리 # 네이버 맞춤법 검사기는 최대 500자까지 검사 가능"
   ]
  },
  {
   "cell_type": "code",
   "execution_count": 2,
   "id": "9ad84e2b",
   "metadata": {
    "scrolled": true
   },
   "outputs": [],
   "source": [
    "df = pd.read_csv('../data/webtoon_data.csv')"
   ]
  },
  {
   "cell_type": "markdown",
   "id": "438caab1",
   "metadata": {},
   "source": [
    "# 불용어, Nomalize 처리\n",
    "\n",
    "- 기초적인 전처리\n",
    "- 크롤링한 데이터일 경우, html, tag 제거\n",
    "- 숫자, 영어 등 필요하지 않는 문자 및 이모티콘 제거\n",
    "- \"@%*=()/+\"과 같은 punctation 문장 부호 제거"
   ]
  },
  {
   "cell_type": "code",
   "execution_count": 2,
   "id": "20bf8b41",
   "metadata": {},
   "outputs": [],
   "source": [
    "punct = \"!?~':;[]●○•▫️()-_–—\"+'\"@−∇'+'∞θα•à−β∅³π‘₹´°£€\\×™√²'+'‘´°’’`“”“♭∂ω℉℃'\n",
    "\n",
    "def Clean_text(text):\n",
    "    for p in punct: # 위에 있는 punct에 있는 문자가 있을 시, 제거\n",
    "        text = text.replace(p, '')\n",
    "    specials = {'\\u200b': ' ', '…': ' ... ', '\\ufeff': '', 'करना': '', 'है': ''}\n",
    "    for s in specials:\n",
    "        text = text.replace(s, specials[s]) # specials에 있는 단어가 있는 경우, 이에 매칭되는 문자로 대체\n",
    "    return text.strip() # 좌우 공백 제거"
   ]
  },
  {
   "cell_type": "code",
   "execution_count": 3,
   "id": "6b100360",
   "metadata": {},
   "outputs": [],
   "source": [
    "def Korean(text):\n",
    "    return re.sub('[^0-9ㄱ-ㅎㅏ-ㅣ가-힣\\n ]', '', text) # 한글과 숫자 제외하고 지우기\n",
    "def Korean2(text):\n",
    "    return re.sub(\"[^0-9ㄴㅋㅜ가-힣\\n ]\", \"\", text) # 최종으로 남길 문자들"
   ]
  },
  {
   "cell_type": "code",
   "execution_count": 4,
   "id": "20c98abd",
   "metadata": {},
   "outputs": [],
   "source": [
    "def Norm_text(text): # 정규화시키기. 반복되는 단어는 2개로 제한\n",
    "    tt = ''\n",
    "    for t in text.split('\\n')[:]: # 댓글을 '\\n'으로 구분\n",
    "        i = repeat_normalize(t, num_repeats=2) + '\\n'\n",
    "        tt += i\n",
    "    tt=tt.rstrip('\\n') # 맨뒤의 \\n 제거\n",
    "    return tt\n",
    "\n",
    "def Rep_text(text): # 단어 통일 시키기\n",
    "    pattern = '(ㅜ|ㅠ){1,}' \n",
    "    text = re.sub(pattern=pattern, repl='ㅜ', string=text) # ㅜorㅠ가 1번이상 사용된 경우 ㅜ로 바꾸기\n",
    "    pattern = '(ㅌ|ㅎ){1,}' \n",
    "    text = re.sub(pattern=pattern, repl='ㅋ', string=text) # ㅌorㅎ가 1번이상 사용된 경우 ㅋ로 바꾸기\n",
    "    pattern = '(\\n){1,}' \n",
    "    text = re.sub(pattern=pattern, repl='\\n', string=text) # \\n가 1번이상 사용된 경우 \\n로 바꾸기\n",
    "    return text\n",
    "\n",
    "def Rep_word(text): # 한 user가 쓴 댓글 안에서 중복되는 단어 제거\n",
    "    text = str(text)\n",
    "    tt = '' # 최종 \\n으로 구분되는 데이터 부분\n",
    "    for sen in text.split('\\n'):\n",
    "        words = sen.split() # 공백 기준으로 단어 분리\n",
    "        \n",
    "        unique_words = []\n",
    "        for word in words:\n",
    "            if word not in unique_words: # 중복된 단어 제거\n",
    "                unique_words.append(word)\n",
    "        processed_text = ' '.join(unique_words)\n",
    "        processed_text = processed_text + '\\n'\n",
    "        tt += processed_text\n",
    "    tt=tt.rstrip('\\n') # 맨뒤의 \\n 제거\n",
    "    return tt"
   ]
  },
  {
   "cell_type": "code",
   "execution_count": 6,
   "id": "4c6a81c5",
   "metadata": {},
   "outputs": [],
   "source": [
    "# 위에 정의한 함수들을 best 댓글과 전체 댓글에 적용\n",
    "df['preprocessed_best_comment'] = df['best_comment'].apply(lambda x: Clean_text(x))\n",
    "df['preprocessed_best_comment'] = df['preprocessed_best_comment'].apply(lambda x: Rep_text(x))\n",
    "df['preprocessed_best_comment'] = df['preprocessed_best_comment'].apply(lambda x: Korean(x))\n",
    "df['preprocessed_best_comment'] = df['preprocessed_best_comment'].apply(lambda x: Norm_text(x))\n",
    "df['preprocessed_best_comment'] = df['preprocessed_best_comment'].apply(lambda x: Korean2(x))\n",
    "df['preprocessed_best_comment'] = df['preprocessed_best_comment'].apply(lambda x: Rep_word(x))\n",
    "\n",
    "df['preprocessed_comment'] = df['comment'].apply(lambda x: Clean_text(x))\n",
    "df['preprocessed_comment'] = df['preprocessed_comment'].apply(lambda x: Rep_text(x))\n",
    "df['preprocessed_comment'] = df['preprocessed_comment'].apply(lambda x: Korean(x))\n",
    "df['preprocessed_comment'] = df['preprocessed_comment'].apply(lambda x: Norm_text(x))\n",
    "df['preprocessed_comment'] = df['preprocessed_comment'].apply(lambda x: Korean2(x))\n",
    "df['preprocessed_comment'] = df['preprocessed_comment'].apply(lambda x: Rep_word(x))"
   ]
  },
  {
   "cell_type": "code",
   "execution_count": 7,
   "id": "87cc06ee",
   "metadata": {},
   "outputs": [],
   "source": [
    "# 댓글이 없는 경우를 위해 Null값 치환\n",
    "df['preprocessed_best_comment'] = df['preprocessed_best_comment'].fillna(\"\\n\")\n",
    "df['preprocessed_comment'] = df['preprocessed_comment'].fillna(\"\\n\")"
   ]
  },
  {
   "cell_type": "markdown",
   "id": "50383bde",
   "metadata": {},
   "source": [
    "## py - hanspell\n",
    "\n",
    "py-hanspell은 네이버 맞춤법 검사기를 이용한 파이썬용 한글 맞춤법 검사 라이브러리  \n",
    "\n",
    "네이버 맞춤법 검사기는 최대 500자까지 검사 가능\n",
    "\n",
    "+ 김종윤 학우님과 함께 라이브러리 실행할 때 발생한 에러 해결후 사용하였습니다."
   ]
  },
  {
   "cell_type": "code",
   "execution_count": 10,
   "id": "ac0bcebb",
   "metadata": {},
   "outputs": [],
   "source": [
    "def Check_text(text):\n",
    "    checked_text = ''\n",
    "    for t in text.split('\\n'): # 댓글을 '\\n'으로 구분\n",
    "        try:\n",
    "            result = spell_checker.check(t)\n",
    "            checking = result.checked + '\\n'\n",
    "            checked_text += checking\n",
    "        except:\n",
    "            checking = t + '\\n'\n",
    "            checked_text += checking # 기존문장 그대로 반환\n",
    "    checked_text=checked_text[:-1] # 맨뒤의 \\n 제거\n",
    "    return checked_text"
   ]
  },
  {
   "cell_type": "code",
   "execution_count": 11,
   "id": "ea7a9877",
   "metadata": {},
   "outputs": [],
   "source": [
    "df['preprocessed_best_comment'] = df['preprocessed_best_comment'].apply(lambda x: Check_text(x))\n",
    "df['preprocessed_comment'] = df['comment'].apply(lambda x: Check_text(x))"
   ]
  },
  {
   "cell_type": "code",
   "execution_count": 14,
   "id": "4950454c",
   "metadata": {},
   "outputs": [],
   "source": [
    "# df.to_csv('../data/pre_hanspell_data.csv', index=False)\n",
    "# df = pd.read_csv('../data/pre_hanspell_data.csv')"
   ]
  },
  {
   "cell_type": "code",
   "execution_count": 104,
   "id": "bdf9e61c",
   "metadata": {},
   "outputs": [],
   "source": [
    "# 반복된 단어 한번 더 제거\n",
    "df['preprocessed_best_comment'] = df['preprocessed_best_comment'].apply(lambda x: Rep_word(x))\n",
    "df['preprocessed_comment'] = df['preprocessed_comment'].apply(lambda x: Rep_word(x))\n",
    "# 정규화 한번 더\n",
    "df['preprocessed_best_comment'] = df['preprocessed_best_comment'].apply(lambda x: Norm_text(x))\n",
    "df['preprocessed_comment'] = df['preprocessed_comment'].apply(lambda x: Norm_text(x))\n",
    "# \n",
    "df['preprocessed_best_comment'] = df['preprocessed_best_comment'].apply(lambda x: Clean_text(x))\n",
    "df['preprocessed_comment'] = df['preprocessed_comment'].apply(lambda x: Clean_text(x))\n",
    "# 한국어 숫자 남기기\n",
    "df['preprocessed_best_comment'] = df['preprocessed_best_comment'].apply(lambda x: Korean2(x))\n",
    "df['preprocessed_comment'] = df['preprocessed_comment'].apply(lambda x: Korean2(x))\n",
    "# 단어 통일\n",
    "df['preprocessed_best_comment'] = df['preprocessed_best_comment'].apply(lambda x: Rep_text(x))\n",
    "df['preprocessed_comment'] = df['preprocessed_comment'].apply(lambda x: Rep_text(x))"
   ]
  },
  {
   "cell_type": "code",
   "execution_count": 10,
   "id": "c4876a9f",
   "metadata": {},
   "outputs": [
    {
     "name": "stdout",
     "output_type": "stream",
     "text": [
      "False\n"
     ]
    }
   ],
   "source": [
    "# NaN값이 있는 row 제거\n",
    "df = df.dropna(how = 'any') # Null 값이 존재하는 행 제거\n",
    "print(df.isnull().values.any()) # Null 값이 존재하는지 확인"
   ]
  },
  {
   "cell_type": "code",
   "execution_count": 12,
   "id": "0f4cfdfe",
   "metadata": {},
   "outputs": [],
   "source": [
    "# df.to_csv('../data/pre_data.csv', index=False)"
   ]
  },
  {
   "cell_type": "markdown",
   "id": "fc8b9c79",
   "metadata": {},
   "source": [
    "# 사용하지는 않은 함수"
   ]
  },
  {
   "cell_type": "code",
   "execution_count": 29,
   "id": "4fec2569",
   "metadata": {},
   "outputs": [],
   "source": [
    "# https://apps.timwhitlock.info/emoji/tables/unicode#emoji-modal\n",
    "# https://ko.wikipedia.org/wiki/%EC%9C%A0%EB%8B%88%EC%BD%94%EB%93%9C_1F000~1FFFF\n",
    "# https://ko.wikipedia.org/wiki/%ED%95%9C%EC%A4%91%EC%9D%BC_%EA%B4%84%ED%98%B8_%EB%AC%B8%EC%9E%90\n",
    "# http://www.hipenpal.com/tool/characters-to-unicode-charts-in-korean.php?unicode=92\n",
    "# https://tonks.tistory.com/28\n",
    "# 이모티콘 제거하는 함수\n",
    "target_unicode = [\"\\u1F600-\\u1F64F\", # 스마일리\n",
    "                  \"\\u1F300-\\u1F5FF\", # 기호\n",
    "                  \"\\u1F680-\\u1F6FF\", # 트랜스포트 및 심볼\n",
    "                  \"\\u1F1E0-\\u1F1FF\", # 국기\n",
    "                  \"\\u2702-\\u27B0\", # 다른 특수 기호          \n",
    "                  \"\\u1F90C-\\u1F946\",\"\\u1F947-\\u1F978\",\"\\u1F97A-\\u1F9CB\",\"\\u1F9CD-\\u1F9FF\", # 기타 얼굴     \n",
    "                  \"\\u1F780-\\u1F7D4\",\"\\u1F7E0-\\u1F7EB\",\"\\u1F700-\\u1F773\",  # 기타       \n",
    "                  \"\\u1F3B5\",\"\\u2669-\\u266C\",  # 음표        \n",
    "                  \"\\u1F300-\\u1F6D2\", # 얼굴 하트 등\n",
    "                  \n",
    "                  # 여러가지 기호들. 별,하트 제외\n",
    "                  \"\\u2600-\\u2604\", \"\\u2606-\\u2664\", \"\\u2666-\\u26FF\",\n",
    "                  \"\\u2200-\\u22FF\", # 수학 기호\n",
    "                  \"\\u2300-\\u23FA\", # 여러 가지 기술 기호\n",
    "                  \"\\u2100-\\u214F\", # 글자 변형한 기호\n",
    "                  \"\\u2580-\\u259F\", # 네모 기호\n",
    "                  \n",
    "                  # 전각/반각 모양\n",
    "                  \"\\uFF01-\\uFF9F\",\"\\uFFA1-\\uFFBF\",\"\\uFFC2-\\uFFC7\",\"\\uFFCA-\\uFFCF\",\"\\uFFD2-\\uFFD7\",\"\\uFFDA-\\uFFDC\",\"\\uFFE0-\\uFFE6\",\"\\uFFE8-\\uFFEE\",\n",
    "                  \n",
    "                  \"\\u2460-\\u24FF\",\"\\u3251-\\u325F\",\"\\u32B1-\\u32BF\",\"\\u1F10B\",\"\\u2776-\\u2789\", # circled number   \n",
    "                  \"\\u24B6-\\u24E9\",\"\\u1F150-\\u1F15F\",\"\\u1F160-\\u1F169\", # circled letter\n",
    "\n",
    "                  \"\\u3001-\\u303F\", # 한중일 기호 및 구두점\n",
    "                  \"\\u3200-\\u32FF\", # 한중일 괄호 문자\n",
    "                  \"\\u31C0-\\u31E3\",\"\\u2E80-\\u2E99\", # 한자 획\n",
    "                  \"\\u2E9B-\\u2EF3\", # 부수 보충\n",
    "\n",
    "                  # 호환용 한글 자모\n",
    "                  # ㄴ,ㅋ,ㅎ,ㅜ,ㅠ 빼고 자음 모음 날리기\n",
    "                  \"\\u3131-\\u3133\",\"\\u3135-\\u314A\",\"\\u314C-\\u314D\",\"\\u314F-\\u315B\",\"\\u315D-\\u315F\",\"\\u3161-\\u3163\",\"\\u3165-\\u318E\",\"\\uD7B0-\\uD7C6\",\n",
    "\n",
    "                  # 일본어 유니코드\n",
    "                  \"\\u3040-\\u309F\", # 히라가나\n",
    "                  \"\\u30A0-\\u30FF\",\"\\u31F0-\\u31FF\", # 가타카나\n",
    "                  \"\\u3105-\\u312D\",\"\\u31A0-\\u31B7\", # 주음 부호\n",
    "                  \n",
    "                  \"\\u4E00-\\u9FD5\", # 한자\n",
    "                  u\"U\\0000A720-U\\0000A7CA\",u\"U\\0000A7D0-U\\0000A7D1\",u\"U\\0000A7D3\",u\"U\\0000A7D5-U\\0000A7D9\",u\"U\\0000A7F2-U\\0000A7FF\", # 라틴 확장\n",
    "                  u\"U\\0000FB50-U\\0000FBC1\",u\"U\\0000FBD3-U\\0000FBFF\", # 아랍어\n",
    "                  u\"U\\00010330-U\\0001034A\", # 옛 고딕체 알파벳\n",
    "                  u\"U\\00010300-U\\00010323\",u\"U\\0001032D-U\\0000102F\"] # 옛 이탈리아 문자\n",
    "\n",
    "def Emoji(text):\n",
    "    emoji_pattern = \"[\" + \"\".join(target_unicode) + \"]\"\n",
    "    emoji_text = re.sub(emoji_pattern, \"\", text) #문자 제거\n",
    "    return emoji_text"
   ]
  }
 ],
 "metadata": {
  "kernelspec": {
   "display_name": "Python 3 (ipykernel)",
   "language": "python",
   "name": "python3"
  },
  "language_info": {
   "codemirror_mode": {
    "name": "ipython",
    "version": 3
   },
   "file_extension": ".py",
   "mimetype": "text/x-python",
   "name": "python",
   "nbconvert_exporter": "python",
   "pygments_lexer": "ipython3",
   "version": "3.9.12"
  }
 },
 "nbformat": 4,
 "nbformat_minor": 5
}
