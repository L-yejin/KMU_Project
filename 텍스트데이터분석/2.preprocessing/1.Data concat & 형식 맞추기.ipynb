{
 "cells": [
  {
   "cell_type": "markdown",
   "id": "74f808ea",
   "metadata": {},
   "source": [
    "# 데이터 합치기 & 간단한 형식 맞추기"
   ]
  },
  {
   "cell_type": "markdown",
   "id": "75bd273b",
   "metadata": {},
   "source": [
    "- [간단 전처리 함수](#간단-전처리)\n",
    "- [완결 웹툰 concat](#완결-웹툰)\n",
    "- [연재중 웹툰 concat](#연재중-웹툰)\n",
    "- [데이터 합치기 & 내보내기](#완결,-연재중-웹툰-구분하는-column-추가-후,-합치기)"
   ]
  },
  {
   "cell_type": "code",
   "execution_count": 1,
   "id": "edee1136",
   "metadata": {},
   "outputs": [],
   "source": [
    "import pandas as pd\n",
    "import numpy as np\n",
    "import re\n",
    "\n",
    "import os"
   ]
  },
  {
   "cell_type": "code",
   "execution_count": 2,
   "id": "75b2d35b",
   "metadata": {},
   "outputs": [],
   "source": [
    "# 파일 이름 가져오는 함수\n",
    "def get_file_names(folder_path):\n",
    "    files = os.listdir(folder_path)\n",
    "    return files\n",
    "\n",
    "folder_path = '../1.데이터 수집/collected_data/' # 특정 폴더의 경로 지정\n",
    "file_names = get_file_names(folder_path) # 파일 이름 가져오기\n",
    "\n",
    "# 결과 출력\n",
    "fin_folder_lst = [] # 완결 웹툰 csv\n",
    "con_folder_lst = [] # 연재중 웹툰 csv\n",
    "for name in file_names:\n",
    "    if name.split('.')[-1] == 'csv':\n",
    "        if name.split('.')[0].split('_')[0] == 'fin':\n",
    "            fin_folder_lst.append(name)\n",
    "        else:\n",
    "            con_folder_lst.append(name)"
   ]
  },
  {
   "cell_type": "code",
   "execution_count": 3,
   "id": "737185d0",
   "metadata": {},
   "outputs": [],
   "source": [
    "# fin_folder_lst[:-4] # 뒤에 네개는 info와 score\n",
    "# con_folder_lst[:-6] # 뒤에 여섯개는 info와 score\n",
    "\n",
    "# 완결 웹툰 comment 데이터 합치기\n",
    "fin_comment=pd.DataFrame()\n",
    "for i in fin_folder_lst[:-4]:\n",
    "    d = pd.read_csv(f'collected_data/{i}')\n",
    "    fin_comment=pd.concat([fin_comment,d])\n",
    "    \n",
    "# 연재중 웹툰 comment 데이터 합치기\n",
    "con_comment=pd.DataFrame()\n",
    "for i in con_folder_lst[:-6]:\n",
    "    d = pd.read_csv(f'collected_data/{i}')\n",
    "    con_comment=pd.concat([con_comment,d])"
   ]
  },
  {
   "cell_type": "markdown",
   "id": "12e60142",
   "metadata": {},
   "source": [
    "# 간단 전처리"
   ]
  },
  {
   "cell_type": "code",
   "execution_count": 4,
   "id": "c9ff6773",
   "metadata": {},
   "outputs": [],
   "source": [
    "# title에 휴재,\\n 있는 경우, 제외하기\n",
    "def Name(text):\n",
    "    result = re.sub('\\n', '', string=text)\n",
    "    result = re.sub('휴재', '', string=result)\n",
    "    return result"
   ]
  },
  {
   "cell_type": "code",
   "execution_count": 5,
   "id": "f7bc431b",
   "metadata": {},
   "outputs": [],
   "source": [
    "# total 전체 화 숫자로 뽑기\n",
    "def Extract_num(text):\n",
    "    text = str(text) # str로 변환해줘야 type error가 안뜸\n",
    "    pattern = r'\\d+'  # 1개 이상의 연속된 숫자에 매치되는 패턴\n",
    "    numbers = re.findall(pattern, text)\n",
    "    return numbers[0]"
   ]
  },
  {
   "cell_type": "code",
   "execution_count": 6,
   "id": "90355c70",
   "metadata": {},
   "outputs": [],
   "source": [
    "# 장르 #장르 형식으로 만들기\n",
    "def Genre(text):\n",
    "    tt = ''\n",
    "    p = re.compile('(?<=#)[가-힣.]+')\n",
    "    result = p.findall(text)\n",
    "    for i in result:\n",
    "        i = '#'+i\n",
    "        tt+=i\n",
    "    return tt"
   ]
  },
  {
   "cell_type": "code",
   "execution_count": 7,
   "id": "a551d1ba",
   "metadata": {},
   "outputs": [],
   "source": [
    "def Descript(text):\n",
    "    result = re.sub('\\n', '', string=text)\n",
    "    return result"
   ]
  },
  {
   "cell_type": "code",
   "execution_count": 8,
   "id": "f7eaa9dc",
   "metadata": {},
   "outputs": [],
   "source": [
    "# origin의 'X'를 'No_original'로 바꾸기\n",
    "def Original(text):\n",
    "    if text == 'X':\n",
    "        text = 'No_original'\n",
    "    return text"
   ]
  },
  {
   "cell_type": "code",
   "execution_count": 10,
   "id": "0e952750",
   "metadata": {},
   "outputs": [],
   "source": [
    "# author, artist, origin 작가들 #작가 형식으로 저장\n",
    "def Writer(text):\n",
    "    tt = ''\n",
    "    result = text.split(', ')\n",
    "    for i in result:\n",
    "        i = '#'+i\n",
    "        tt+=i\n",
    "    return tt"
   ]
  },
  {
   "cell_type": "markdown",
   "id": "b869d15f",
   "metadata": {},
   "source": [
    "# 완결 웹툰"
   ]
  },
  {
   "cell_type": "code",
   "execution_count": 11,
   "id": "621f1866",
   "metadata": {},
   "outputs": [],
   "source": [
    "fin_info = pd.read_csv('collected_data/fin_webtoon_info.csv').iloc[:,1:]\n",
    "fin_score = pd.read_csv('collected_data/fin_score_data.csv')\n",
    "\n",
    "# 시간에 따라 바뀌기 때문에 정보가 안들어 간 경우가 있어서 마지막에 한번 더 추출한 정보\n",
    "fin_info_plus = pd.read_csv('collected_data/fin_webtoon_info_plus.csv').iloc[:,1:]\n",
    "fin_score_plus = pd.read_csv('collected_data/fin_score_data_plus.csv')"
   ]
  },
  {
   "cell_type": "code",
   "execution_count": 12,
   "id": "52d7b23b",
   "metadata": {},
   "outputs": [],
   "source": [
    "# info 전처리\n",
    "fin_info['title'] = fin_info['title'].apply(Name)\n",
    "fin_info['total'] = fin_info['total'].apply(Extract_num)\n",
    "\n",
    "fin_info_plus['title'] = fin_info_plus['title'].apply(Name)\n",
    "fin_info_plus['total'] = fin_info_plus['total'].apply(Extract_num)\n",
    "\n",
    "# score 전처리\n",
    "fin_score['title'] = fin_score['title'].apply(Name)\n",
    "fin_score_plus['title'] = fin_score_plus['title'].apply(Name)\n",
    "\n",
    "# comment 전처리\n",
    "fin_comment['title'] = fin_comment['title'].apply(Name)\n",
    "\n",
    "# 댓글이 없는 경우를 위해 Null값 치환\n",
    "fin_comment['best_comment'] = fin_comment['best_comment'].fillna(\"\\n\")\n",
    "fin_comment['comment'] = fin_comment['comment'].fillna(\"\\n\")"
   ]
  },
  {
   "cell_type": "code",
   "execution_count": 13,
   "id": "0b973939",
   "metadata": {},
   "outputs": [],
   "source": [
    "fin_info=pd.concat([fin_info,fin_info_plus])\n",
    "fin_info.drop_duplicates(subset = ['title','descript','genre'],inplace=True) # 중복 row 제거\n",
    "fin_info = fin_info.reset_index().iloc[:,1:]\n",
    "\n",
    "fin_score=pd.concat([fin_score,fin_score_plus])\n",
    "fin_score.drop_duplicates(subset = ['title','episode'],inplace=True) # 중복 row 제거\n",
    "fin_score = fin_score.reset_index().iloc[:,1:]\n",
    "\n",
    "fin_comment.drop_duplicates(inplace=True) # 중복 row 제거\n",
    "fin_comment = fin_comment.reset_index().iloc[:,1:]"
   ]
  },
  {
   "cell_type": "code",
   "execution_count": 14,
   "id": "8e7b51f2",
   "metadata": {},
   "outputs": [],
   "source": [
    "# 하나의 데이터로 합치기\n",
    "final = pd.merge(fin_comment,fin_score, on=['title','episode'], how='left')\n",
    "final = pd.merge(final,fin_info,on='title', how='left')"
   ]
  },
  {
   "cell_type": "code",
   "execution_count": 15,
   "id": "afcd6ef4",
   "metadata": {},
   "outputs": [],
   "source": [
    "# 위에서 정의한 함수 사용\n",
    "final['genre'] = final['genre'].apply(Genre)\n",
    "final['descript'] = final['descript'].apply(Descript)\n",
    "final['origin'] = final['origin'].apply(Original)\n",
    "final['author'] = final['author'].apply(Writer)\n",
    "final['artist'] = final['artist'].apply(Writer)\n",
    "final['origin'] = final['origin'].apply(Writer)"
   ]
  },
  {
   "cell_type": "markdown",
   "id": "fbf134b2",
   "metadata": {},
   "source": [
    "# 연재중 웹툰"
   ]
  },
  {
   "cell_type": "code",
   "execution_count": 16,
   "id": "a287137b",
   "metadata": {},
   "outputs": [],
   "source": [
    "con_info = pd.read_csv('collected_data/continue_webtoon_info.csv').iloc[:,1:]\n",
    "con_info_plus = pd.read_csv('collected_data/continue_webtoon_info_plus.csv').iloc[:,1:]\n",
    "con_info_plus2 = pd.read_csv('collected_data/continue_webtoon_info_plus2.csv').iloc[:,1:]\n",
    "con_score = pd.read_csv('collected_data/continue_score_data.csv')\n",
    "con_score_plus = pd.read_csv('collected_data/continue_score_data_plus.csv')\n",
    "con_score_plus2 = pd.read_csv('collected_data/continue_score_data_plus2.csv')"
   ]
  },
  {
   "cell_type": "code",
   "execution_count": 17,
   "id": "089ee21b",
   "metadata": {},
   "outputs": [],
   "source": [
    "# info 전처리\n",
    "con_info['title'] = con_info['title'].apply(Name)\n",
    "con_info['total'] = con_info['total'].apply(Extract_num)\n",
    "\n",
    "con_info_plus['title'] = con_info_plus['title'].apply(Name)\n",
    "con_info_plus['total'] = con_info_plus['total'].apply(Extract_num)\n",
    "\n",
    "con_info_plus2['title'] = con_info_plus2['title'].apply(Name)\n",
    "con_info_plus2['total'] = con_info_plus2['total'].apply(Extract_num)\n",
    "\n",
    "# score 전처리\n",
    "con_score['title'] = fin_score['title'].apply(Name)\n",
    "con_score_plus['title'] = con_score_plus['title'].apply(Name)\n",
    "con_score_plus2['title'] = con_score_plus2['title'].apply(Name)\n",
    "\n",
    "# comment 전처리\n",
    "con_comment['title'] = con_comment['title'].apply(Name)\n",
    "\n",
    "# 댓글이 없는 경우를 위해 Null값 치환\n",
    "con_comment['best_comment'] = con_comment['best_comment'].fillna(\"\\n\")\n",
    "con_comment['comment'] = con_comment['comment'].fillna(\"\\n\")"
   ]
  },
  {
   "cell_type": "code",
   "execution_count": 18,
   "id": "0d064e47",
   "metadata": {},
   "outputs": [],
   "source": [
    "con_info=pd.concat([con_info,con_info_plus,con_info_plus2])\n",
    "con_info.drop_duplicates(subset = ['title','day','descript','genre'],inplace=True) # 중복 row 제거\n",
    "con_info = con_info.reset_index().iloc[:,1:]\n",
    "\n",
    "con_score=pd.concat([con_score,con_score_plus,con_score_plus2])\n",
    "con_score.drop_duplicates(subset = ['title','day','episode'],inplace=True) # 중복 row 제거\n",
    "con_score = con_score.reset_index().iloc[:,1:]\n",
    "\n",
    "con_comment.drop_duplicates(inplace=True) # 중복 row 제거\n",
    "con_comment = con_comment.reset_index().iloc[:,1:]"
   ]
  },
  {
   "cell_type": "code",
   "execution_count": 19,
   "id": "9b9ecb98",
   "metadata": {},
   "outputs": [],
   "source": [
    "# 하나의 데이터로 합치기\n",
    "serialized = pd.merge(con_comment,con_score, on=['title','episode'], how='left')\n",
    "serialized = pd.merge(serialized,con_info,on=['title','day'], how='left')"
   ]
  },
  {
   "cell_type": "code",
   "execution_count": 20,
   "id": "e2edb947",
   "metadata": {},
   "outputs": [],
   "source": [
    "# 위에서 정의한 함수 사용\n",
    "serialized['genre'] = serialized['genre'].apply(Genre)\n",
    "serialized['descript'] = serialized['descript'].apply(Descript)\n",
    "serialized['origin'] = serialized['origin'].apply(Original)\n",
    "serialized['author'] = serialized['author'].apply(Writer)\n",
    "serialized['artist'] = serialized['artist'].apply(Writer)\n",
    "serialized['origin'] = serialized['origin'].apply(Writer)"
   ]
  },
  {
   "cell_type": "markdown",
   "id": "9a03ae22",
   "metadata": {},
   "source": [
    "# 완결, 연재중 웹툰 구분하는 column 추가 후, 합치기"
   ]
  },
  {
   "cell_type": "code",
   "execution_count": 21,
   "id": "8071adcd",
   "metadata": {},
   "outputs": [],
   "source": [
    "# 각 에피소드 평점과 해당 웹툰의 전체 평균과 비교하여 sentiment column 추가\n",
    "final['sentiment'] = final['score']>=final['star']\n",
    "final['sentiment'] = final['sentiment'].astype(int)\n",
    "final['day'] = '완결'\n",
    "\n",
    "serialized['sentiment'] = serialized['score']>=serialized['star']\n",
    "serialized['sentiment'] = serialized['sentiment'].astype(int)\n",
    "\n",
    "final['web'] = '완결'\n",
    "serialized['web'] = '연재중'\n",
    "\n",
    "final = final[['web', 'title', 'day', 'episode', 'genre', 'descript', \n",
    "               'author', 'artist', 'origin', 'total', 'star', 'date', \n",
    "               'best_comment', 'comment', 'comment_num', 'score','sentiment']]\n",
    "serialized = serialized[['web', 'title', 'day', 'episode', 'genre', 'descript', \n",
    "                         'author', 'artist', 'origin', 'total', 'star', 'date', \n",
    "                         'best_comment', 'comment', 'comment_num', 'score','sentiment']]"
   ]
  },
  {
   "cell_type": "code",
   "execution_count": 22,
   "id": "ca8c3b02",
   "metadata": {},
   "outputs": [],
   "source": [
    "webtoon_data = pd.concat([final,serialized],axis = 0)"
   ]
  },
  {
   "cell_type": "code",
   "execution_count": 28,
   "id": "4a51148d",
   "metadata": {},
   "outputs": [],
   "source": [
    "webtoon_data.to_csv('../data/webtoon_data.csv', index=False)"
   ]
  },
  {
   "cell_type": "code",
   "execution_count": 27,
   "id": "edb8aa65",
   "metadata": {},
   "outputs": [
    {
     "data": {
      "text/html": [
       "<div>\n",
       "<style scoped>\n",
       "    .dataframe tbody tr th:only-of-type {\n",
       "        vertical-align: middle;\n",
       "    }\n",
       "\n",
       "    .dataframe tbody tr th {\n",
       "        vertical-align: top;\n",
       "    }\n",
       "\n",
       "    .dataframe thead th {\n",
       "        text-align: right;\n",
       "    }\n",
       "</style>\n",
       "<table border=\"1\" class=\"dataframe\">\n",
       "  <thead>\n",
       "    <tr style=\"text-align: right;\">\n",
       "      <th></th>\n",
       "      <th>web</th>\n",
       "      <th>title</th>\n",
       "      <th>day</th>\n",
       "      <th>episode</th>\n",
       "      <th>genre</th>\n",
       "      <th>descript</th>\n",
       "      <th>author</th>\n",
       "      <th>artist</th>\n",
       "      <th>origin</th>\n",
       "      <th>total</th>\n",
       "      <th>star</th>\n",
       "      <th>date</th>\n",
       "      <th>best_comment</th>\n",
       "      <th>comment</th>\n",
       "      <th>comment_num</th>\n",
       "      <th>score</th>\n",
       "      <th>sentiment</th>\n",
       "    </tr>\n",
       "  </thead>\n",
       "  <tbody>\n",
       "    <tr>\n",
       "      <th>0</th>\n",
       "      <td>완결</td>\n",
       "      <td>연애혁명</td>\n",
       "      <td>완결</td>\n",
       "      <td>preseason 1. 모든 첫 만남은 대부분 우연이다</td>\n",
       "      <td>#드라마#다정남#혐관로맨스#하이틴#학원로맨스#완결무료#완결드라마</td>\n",
       "      <td>평범하면서 금사빠인 고등학생 순정남 공주영은 까칠하고 차가운 여학생 왕자림을 보고 ...</td>\n",
       "      <td>#232</td>\n",
       "      <td>#232</td>\n",
       "      <td>#No_original</td>\n",
       "      <td>442</td>\n",
       "      <td>9.86</td>\n",
       "      <td>13.09.04</td>\n",
       "      <td>왔구나!!!!\\n베도의 전설 연애혁명이 드디어 혁명을 일으킨다독자들은 풍악을 울리고...</td>\n",
       "      <td>연혁이 끝이라고?..진짜?..나만 안믿겨?..\\n어흑 ㅠㅠㅠ 내 10년\\n유료 되기...</td>\n",
       "      <td>51695</td>\n",
       "      <td>9.89</td>\n",
       "      <td>1</td>\n",
       "    </tr>\n",
       "    <tr>\n",
       "      <th>1</th>\n",
       "      <td>완결</td>\n",
       "      <td>연애혁명</td>\n",
       "      <td>완결</td>\n",
       "      <td>preseason 2. 간혹가다 호의를 호감으로 착각할 때가 있다</td>\n",
       "      <td>#드라마#다정남#혐관로맨스#하이틴#학원로맨스#완결무료#완결드라마</td>\n",
       "      <td>평범하면서 금사빠인 고등학생 순정남 공주영은 까칠하고 차가운 여학생 왕자림을 보고 ...</td>\n",
       "      <td>#232</td>\n",
       "      <td>#232</td>\n",
       "      <td>#No_original</td>\n",
       "      <td>442</td>\n",
       "      <td>9.86</td>\n",
       "      <td>13.09.11</td>\n",
       "      <td>목요웹툰에 대작이 늘어나고있다\\n공개해야하는정봌ㅋㅋㅋㅋㅋㅋㅋㅋㅋㅋㅋㅋ 진격의거인ㅋㅋ...</td>\n",
       "      <td>드라마랑 같이 보니 더 꿀잼!\\n92년생?\\n이때는 어땠을까요\\n병훈아 왜 경우한테...</td>\n",
       "      <td>15379</td>\n",
       "      <td>9.91</td>\n",
       "      <td>1</td>\n",
       "    </tr>\n",
       "    <tr>\n",
       "      <th>2</th>\n",
       "      <td>완결</td>\n",
       "      <td>연애혁명</td>\n",
       "      <td>완결</td>\n",
       "      <td>preseason 3. 용기있는 자만이 미인을 차지한다?</td>\n",
       "      <td>#드라마#다정남#혐관로맨스#하이틴#학원로맨스#완결무료#완결드라마</td>\n",
       "      <td>평범하면서 금사빠인 고등학생 순정남 공주영은 까칠하고 차가운 여학생 왕자림을 보고 ...</td>\n",
       "      <td>#232</td>\n",
       "      <td>#232</td>\n",
       "      <td>#No_original</td>\n",
       "      <td>442</td>\n",
       "      <td>9.86</td>\n",
       "      <td>13.09.18</td>\n",
       "      <td>왠지 작가의 말 보고 별점주고 싶어졌어\\n니가 뭘좋아할지몰라서 담임을준비햇어(수줍)...</td>\n",
       "      <td>지난 4개월을 흘려보냈네요\\n30살때였음\\n정주행하는데 이게 내가 학생때 나온 작품...</td>\n",
       "      <td>13075</td>\n",
       "      <td>9.91</td>\n",
       "      <td>1</td>\n",
       "    </tr>\n",
       "  </tbody>\n",
       "</table>\n",
       "</div>"
      ],
      "text/plain": [
       "  web title day                               episode  \\\n",
       "0  완결  연애혁명  완결        preseason 1. 모든 첫 만남은 대부분 우연이다   \n",
       "1  완결  연애혁명  완결  preseason 2. 간혹가다 호의를 호감으로 착각할 때가 있다   \n",
       "2  완결  연애혁명  완결       preseason 3. 용기있는 자만이 미인을 차지한다?   \n",
       "\n",
       "                                 genre  \\\n",
       "0  #드라마#다정남#혐관로맨스#하이틴#학원로맨스#완결무료#완결드라마   \n",
       "1  #드라마#다정남#혐관로맨스#하이틴#학원로맨스#완결무료#완결드라마   \n",
       "2  #드라마#다정남#혐관로맨스#하이틴#학원로맨스#완결무료#완결드라마   \n",
       "\n",
       "                                            descript author artist  \\\n",
       "0  평범하면서 금사빠인 고등학생 순정남 공주영은 까칠하고 차가운 여학생 왕자림을 보고 ...   #232   #232   \n",
       "1  평범하면서 금사빠인 고등학생 순정남 공주영은 까칠하고 차가운 여학생 왕자림을 보고 ...   #232   #232   \n",
       "2  평범하면서 금사빠인 고등학생 순정남 공주영은 까칠하고 차가운 여학생 왕자림을 보고 ...   #232   #232   \n",
       "\n",
       "         origin total  star      date  \\\n",
       "0  #No_original   442  9.86  13.09.04   \n",
       "1  #No_original   442  9.86  13.09.11   \n",
       "2  #No_original   442  9.86  13.09.18   \n",
       "\n",
       "                                        best_comment  \\\n",
       "0  왔구나!!!!\\n베도의 전설 연애혁명이 드디어 혁명을 일으킨다독자들은 풍악을 울리고...   \n",
       "1  목요웹툰에 대작이 늘어나고있다\\n공개해야하는정봌ㅋㅋㅋㅋㅋㅋㅋㅋㅋㅋㅋㅋ 진격의거인ㅋㅋ...   \n",
       "2  왠지 작가의 말 보고 별점주고 싶어졌어\\n니가 뭘좋아할지몰라서 담임을준비햇어(수줍)...   \n",
       "\n",
       "                                             comment comment_num  score  \\\n",
       "0  연혁이 끝이라고?..진짜?..나만 안믿겨?..\\n어흑 ㅠㅠㅠ 내 10년\\n유료 되기...       51695   9.89   \n",
       "1  드라마랑 같이 보니 더 꿀잼!\\n92년생?\\n이때는 어땠을까요\\n병훈아 왜 경우한테...       15379   9.91   \n",
       "2  지난 4개월을 흘려보냈네요\\n30살때였음\\n정주행하는데 이게 내가 학생때 나온 작품...       13075   9.91   \n",
       "\n",
       "   sentiment  \n",
       "0          1  \n",
       "1          1  \n",
       "2          1  "
      ]
     },
     "execution_count": 27,
     "metadata": {},
     "output_type": "execute_result"
    }
   ],
   "source": [
    "webtoon_data.head(3)"
   ]
  },
  {
   "cell_type": "code",
   "execution_count": null,
   "id": "a2b86bf9",
   "metadata": {},
   "outputs": [],
   "source": []
  }
 ],
 "metadata": {
  "kernelspec": {
   "display_name": "Python 3 (ipykernel)",
   "language": "python",
   "name": "python3"
  },
  "language_info": {
   "codemirror_mode": {
    "name": "ipython",
    "version": 3
   },
   "file_extension": ".py",
   "mimetype": "text/x-python",
   "name": "python",
   "nbconvert_exporter": "python",
   "pygments_lexer": "ipython3",
   "version": "3.9.12"
  }
 },
 "nbformat": 4,
 "nbformat_minor": 5
}
